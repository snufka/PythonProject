{
  "nbformat": 4,
  "nbformat_minor": 0,
  "metadata": {
    "colab": {
      "name": "Welcome To Colaboratory",
      "provenance": [],
      "collapsed_sections": [],
      "toc_visible": true,
      "include_colab_link": true
    },
    "kernelspec": {
      "display_name": "Python 3",
      "name": "python3"
    }
  },
  "cells": [
    {
      "cell_type": "markdown",
      "metadata": {
        "id": "view-in-github",
        "colab_type": "text"
      },
      "source": [
        "<a href=\"https://colab.research.google.com/github/snufka/PythonProject/blob/main/Welcome_To_Colaboratory.ipynb\" target=\"_parent\"><img src=\"https://colab.research.google.com/assets/colab-badge.svg\" alt=\"Open In Colab\"/></a>"
      ]
    },
    {
      "cell_type": "code",
      "metadata": {
        "colab": {
          "base_uri": "https://localhost:8080/",
          "height": 927
        },
        "id": "XBYDrKhs2j5P",
        "outputId": "f7cf15b2-d96e-4fae-a148-c7fdc870ea80"
      },
      "source": [
        "import pandas as pd\n",
        "import requests\n",
        "from bs4 import BeautifulSoup\n",
        "import re\n",
        "import matplotlib.pyplot as plt\n",
        "%matplotlib inline\n",
        "\n",
        "#Task 1-------------------------------------------------------------------------\n",
        "#url= input (\"Enter wiki url :\")\n",
        "#for easy testing\n",
        "url= 'https://en.wikipedia.org/wiki/Wolfgang_Amadeus_Mozart'\n",
        "\n",
        "def scraping_webpage(): #web scraping function\n",
        "\n",
        "    page=requests.get(url)\n",
        "#getting the text and parsing it\n",
        "    soup = BeautifulSoup(page.text, 'html.parser')\n",
        "#The Wiki page Text\n",
        "    body_text = soup.find('mw-body')\n",
        "    text = soup.get_text()\n",
        "    return text \n",
        "\n",
        "my_fun = scraping_webpage()\n",
        "\n",
        "#Task 2-------------------------------------------------------------------------\n",
        "def lang_in_url():\n",
        "    split = url.split(\".\")\n",
        "\n",
        "#Checking Language by subDomain;\n",
        "    if split[0].find(\"en\") == -1:\n",
        "        print(\"*********Based on the URL, this page is in German*****************\" )\n",
        "  # elif (split[0].includes(\"en\"))\n",
        "   #     print(\"it's not english nor German, to find out more please visit https://en.wikipedia.org/wiki/List_of_Wikipedias#List\")\n",
        "    else: \n",
        "        print(\"*********Based on the URL, this page is in English*****************\")\n",
        "  \n",
        "url_lang=lang_in_url()\n",
        "\n",
        "#TASK 3-------------------------------------------------------------------------\n",
        "#list of only the letters, including german letters\n",
        "def letters_frequency():\n",
        "     x = re.findall(\"[A-Za-zÀ-ȕ]\", my_fun)\n",
        "\n",
        "#turn it back to str to count frequency\n",
        "     clean_str= ''.join([str(elem) for elem in x])\n",
        "\n",
        "#frequency count\n",
        "     freq = {} \n",
        "     for item in clean_str.lower(): \n",
        "        if (item in freq): \n",
        "            freq[item] += 1\n",
        "        else: \n",
        "            freq[item] = 1\n",
        "\n",
        "#sorting dictinory alphabetically\n",
        "     sortedDict = dict( sorted(freq.items(), key=lambda x: x[0].lower()) )\n",
        "     return sortedDict\n",
        "\n",
        "lff=letters_frequency()\n",
        "\n",
        "#the frequency table\n",
        "df1=pd.DataFrame(lff.items(),columns=['Letter', 'Frequency Input 1'])\n",
        "print(df1)\n",
        "\n",
        "#The chart\n",
        "df_reset=df1.set_index('Letter')\n",
        "df_reset.plot.bar(figsize=(20,10),title='Letters Frequency Distribution')\n",
        "\n",
        "# Task 5-----------------------------------------------------------------------\n",
        "def is_the_text_in_german():\n",
        "#count of letters sum\n",
        "   values_char = lff.values()\n",
        "   total_char= sum(values_char)\n",
        "#print(\"Total number of letters in the text: {}\".format(total_char))\n",
        "\n",
        "#Counting German Letters and counting the percentage of the letter in the text\n",
        "   germna_letters= ['ä', 'ö', 'ü', 'ß']\n",
        "   german_char_dict = {k:lff[k] for k in germna_letters if k in lff}\n",
        "\n",
        "   values_german_char = german_char_dict.values()\n",
        "   total_german_char= sum(values_german_char)\n",
        "\n",
        "   print(\"Total number of German letter in the text: {}\".format(total_german_char))\n",
        "\n",
        "# Calculation of the % of the German latters of the text\n",
        "   percentage_of_german_char= (total_german_char/total_char)*100\n",
        "\n",
        "   print(\"percentage of greman letter in the text: {}\".format(percentage_of_german_char))\n",
        "\n",
        "#Probablity that the text is in German----------\n",
        "   if percentage_of_german_char >= 0.465:\n",
        "      print( \"We are 100% sure that this text is in German! The frequency of special German characters is 0.465% or higher!\")\n",
        "\n",
        "   elif percentage_of_german_char < 0.465 and percentage_of_german_char >= 0.348:\n",
        "    print(\"The chance that this text is in German is very high 100% - 75%! The frequency of special German characters is {}%\".format(percentage_of_german_char))\n",
        "\n",
        "   elif percentage_of_german_char < 0.348 and percentage_of_german_char >= 0.2325:\n",
        "    print(\"We are 75% - 50% sure that this text is in German! The frequency of special German characters is {}%\".format(percentage_of_german_char))\n",
        "\n",
        "   elif percentage_of_german_char < 0.2325 and percentage_of_german_char >= 0.116:\n",
        "    print(\"We are 50% - 25% sure that this text is in German! The frequency of special German characters is {}%\".format(percentage_of_german_char))\n",
        "\n",
        "   else: \n",
        "    print( \"Not German! There is less than 25% that this text is in German! The frequency of special German characters is {}%\".format(percentage_of_german_char))\n",
        "\n",
        "text_lang= is_the_text_in_german()\n",
        "\n"
      ],
      "execution_count": 3,
      "outputs": [
        {
          "output_type": "stream",
          "name": "stdout",
          "text": [
            "*********Based on the URL, this page is in English*****************\n",
            "   Letter  Frequency Input 1\n",
            "0       a               5055\n",
            "1       b                904\n",
            "2       c               2200\n",
            "3       d               1979\n",
            "4       e               6349\n",
            "..    ...                ...\n",
            "58      ś                  1\n",
            "59      š                  4\n",
            "60      ů                  1\n",
            "61      ų                  1\n",
            "62      ž                  2\n",
            "\n",
            "[63 rows x 2 columns]\n",
            "Total number of German letter in the text: 29\n",
            "percentage of greman letter in the text: 0.04944670838377466\n",
            "Not German! There is less than 25% that this text is in German! The frequency of special German characters is 0.04944670838377466%\n"
          ]
        },
        {
          "output_type": "display_data",
          "data": {
            "image/png": "[encoded data removed]",
            "text/plain": [
              "<Figure size 1440x720 with 1 Axes>"
            ]
          },
          "metadata": {
            "needs_background": "light"
          }
        }
      ]
    }
  ]
}