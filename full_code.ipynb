{
  "nbformat": 4,
  "nbformat_minor": 0,
  "metadata": {
    "colab": {
      "name": "Welcome To Colaboratory",
      "provenance": [],
      "collapsed_sections": [],
      "include_colab_link": true
    },
    "kernelspec": {
      "display_name": "Python 3",
      "name": "python3"
    }
  },
  "cells": [
    {
      "cell_type": "markdown",
      "metadata": {
        "id": "view-in-github",
        "colab_type": "text"
      },
      "source": [
        "<a href=\"https://colab.research.google.com/github/snufka/PythonProject/blob/main/full_code.ipynb\" target=\"_parent\"><img src=\"https://colab.research.google.com/assets/colab-badge.svg\" alt=\"Open In Colab\"/></a>"
      ]
    },
    {
      "cell_type": "code",
      "metadata": {
        "id": "XBYDrKhs2j5P"
      },
      "source": [
        "import pandas as pd\n",
        "import requests\n",
        "from bs4 import BeautifulSoup\n",
        "import re\n",
        "import matplotlib.pyplot as plt\n",
        "%matplotlib inline\n",
        "\n",
        "#Task 1--Scraping the webpage---------------------------------------------------\n",
        "url= input (\"Enter wiki url: \")\n",
        "#for easy testing\n",
        "#url= 'https://de.wikipedia.org/wiki/Pietro_Antonio_Lorenzoni'\n",
        "\n",
        "def scraping_webpage(url): #web scraping function\n",
        "\n",
        "    page=requests.get(url)\n",
        "\n",
        "#getting the text and parsing it\n",
        "    soup = BeautifulSoup(page.text, 'html.parser')\n",
        "\n",
        "#The Wiki page Text\n",
        "    text=[]\n",
        "    text_body = soup.find_all(class_='mw-body')\n",
        "\n",
        "    for item in text_body:\n",
        "         text.append(item.text)\n",
        "         \n",
        "#Clean version of the text\n",
        "    string =' '.join([str(item) for item in text]) \n",
        "    return string\n",
        "\n",
        "my_fun = scraping_webpage(url)\n",
        "print(my_fun)\n"
      ],
      "execution_count": null,
      "outputs": []
    },
    {
      "cell_type": "code",
      "metadata": {
        "id": "K7O3Uqy3FB5w"
      },
      "source": [
        "#Task 2--Detecting the language based on the URL--------------------------------\n",
        "def lang_in_url():\n",
        "    split = url.split(\".\")\n",
        "\n",
        "#Checking Language by subDomain;\n",
        "    if split[0].find(\"en\") == -1:\n",
        "        print(\"*********Based on the URL, this page is in German**************\")\n",
        "  # elif (split[0].includes(\"en\"))\n",
        "   #     print(\"it's not english nor German, to find out more please visit https://en.wikipedia.org/wiki/List_of_Wikipedias#List\")\n",
        "    else: \n",
        "        print(\"*********Based on the URL, this page is in English*****************\")\n",
        "  \n",
        "url_lang=lang_in_url()"
      ],
      "execution_count": null,
      "outputs": []
    },
    {
      "cell_type": "code",
      "metadata": {
        "id": "gAkGyBgZFIJe"
      },
      "source": [
        "#TASK 3--First URl frequency table----------------------------------------------\n",
        "#list of only the letters, including german letters\n",
        "def letters_frequency(my_fun):\n",
        "     x = re.findall(\"[A-Za-zÀ-ȕ]\", my_fun)\n",
        "\n",
        "#turn it back to str to count frequency\n",
        "     clean_str= ''.join([str(elem) for elem in x])\n",
        "\n",
        "#frequency count\n",
        "     freq = {} \n",
        "     for item in clean_str.lower(): \n",
        "        if (item in freq): \n",
        "            freq[item] += 1\n",
        "        else: \n",
        "            freq[item] = 1\n",
        "\n",
        "#sorting dictinory alphabetically\n",
        "     sortedDict = dict( sorted(freq.items(), key=lambda x: x[0].lower()) )\n",
        "     return sortedDict\n",
        "\n",
        "lff=letters_frequency(my_fun)\n",
        "#print(lff)\n",
        "\n",
        "#the frequency table\n",
        "df1=pd.DataFrame(lff.items(),columns=['Letter', 'Frequency Input 1'])\n",
        "print(df1)\n",
        "\n",
        "#The chart\n",
        "df_reset=df1.set_index('Letter')\n",
        "df_reset.plot.bar(figsize=(20,10),title='Letters Frequency Distribution')"
      ],
      "execution_count": null,
      "outputs": []
    },
    {
      "cell_type": "code",
      "metadata": {
        "id": "XWbJ_kXzHQAB"
      },
      "source": [
        "#Task 4 Plooting--Entering second URL and comparing letters frequencies---------\n",
        "\n",
        "url_2= input(\"Enter second url: \")\n",
        "#url_2='https://de.wikipedia.org/wiki/Angela_Merkel'\n",
        "\n",
        "page_2=requests.get(url_2)\n",
        "secondtext=scraping_webpage(url_2)\n",
        "#print(secondtext)\n",
        "\n",
        "lff_2=letters_frequency(secondtext)\n",
        "#print(lff_2)\n",
        "\n",
        "df2=pd.DataFrame(lff_2.items(),columns=['Letter', 'Frequency Input 2'])\n",
        "#print(df2)\n",
        "\n",
        "def data_merging_chart():\n",
        "    merged_table=pd.merge(df1, df2, on='Letter', how='outer')\n",
        "    print(merged_table)\n",
        "    df_reset=merged_table.set_index('Letter')\n",
        "    df_reset.plot.bar(figsize=(20,10), title='Frequency Comperebale Plot')\n",
        "\n",
        "merged_chart=data_merging_chart()\n",
        "print(merged_chart)\n"
      ],
      "execution_count": null,
      "outputs": []
    },
    {
      "cell_type": "code",
      "metadata": {
        "id": "VVhqFyo7FQhW"
      },
      "source": [
        "# Task 5 & 6--Probabilty that the text is in German-----------------------------\n",
        "\n",
        "def probability_german_text():\n",
        "#count of letters sum\n",
        "   values_char = lff.values()\n",
        "   total_char= sum(values_char)\n",
        "#print(\"Total number of letters in the text: {}\".format(total_char))\n",
        "\n",
        "#Counting German Letters and counting the percentage of the letter in the text\n",
        "   germna_letters= ['ä', 'ö', 'ü', 'ß']\n",
        "   german_char_dict = {k:lff[k] for k in germna_letters if k in lff}\n",
        "\n",
        "   values_german_char = german_char_dict.values()\n",
        "   total_german_char= sum(values_german_char)\n",
        "   print(\"Total letters in the text: {}\".format(total_char)) \n",
        "   print(\"Total number of German letters in the text: {}\".format(total_german_char))\n",
        "\n",
        "# Calculation of the % of the German latters of the text\n",
        "   percentage_of_german_char= (total_german_char*100)/total_char\n",
        "   round_percentage_of_german_char=round(percentage_of_german_char, 2)\n",
        "\n",
        "   print(\"Percentage of greman letters in the text: {}\".format(round_percentage_of_german_char))\n",
        "   \n",
        "   \n",
        "   #mean = (0.456/100)*total_char\n",
        "   #sd= (0.114/100)*total_char\n",
        "   #z= (total_german_char - mean)/sd\n",
        "   #probability= 1-z\n",
        "   #print('z', z, 'mean',mean,'sd',sd ,'prob',probability)\n",
        "\n",
        "#Probablity that the text is in German----------\n",
        "   if percentage_of_german_char >= 0.91:\n",
        "      print(\"We are 100% sure that this text is in German! The frequency of special German characters is {}%!\".format(round_percentage_of_german_char))\n",
        "  \n",
        "   elif percentage_of_german_char > 0.79 and percentage_of_german_char < 0.91:\n",
        "        print(\"The probability that this text is in German is 99.9%! The frequency of special German characters is {}%\".format(round_percentage_of_german_char))\n",
        "  \n",
        "   elif percentage_of_german_char > 0.68 and percentage_of_german_char <= 0.79:\n",
        "        print(\"The probability that this text is in German is 97.7%- 99.8%! The frequency of special German characters is {}%\".format(round_percentage_of_german_char))\n",
        "\n",
        "   elif percentage_of_german_char > 0.58 and percentage_of_german_char <= 0.68:\n",
        "        print(\"The probability that this text is in German is 84.1% - 97.7%! The frequency of special German characters is {}%\".format(round_percentage_of_german_char))\n",
        "\n",
        "   elif percentage_of_german_char >= 0.46 and percentage_of_german_char <= 0.57:\n",
        "        print(\"The probability that this text is in German is 84.1% - 50.1%! The frequency of special German characters is {}%\".format(round_percentage_of_german_char))\n",
        "\n",
        "   elif percentage_of_german_char < 0.46 and percentage_of_german_char >= 0.34:\n",
        "    print(\"The probability that this text is in German is 15.8% - 50%! The frequency of special German characters is {}%\".format(round_percentage_of_german_char))\n",
        "\n",
        "   elif percentage_of_german_char < 0.34 and percentage_of_german_char >= 0.23:\n",
        "    print(\"We are 97.7% - 84.2% sure that this text is not German! The frequency of special German characters is {}%\".format(round_percentage_of_german_char))\n",
        "\n",
        "   elif percentage_of_german_char < 0.23 and percentage_of_german_char >= 0.11:\n",
        "    print(\"We are 99.8% - 97.8% sure that this text is not German! The frequency of special German characters is {}%\".format(round_percentage_of_german_char))\n",
        "\n",
        "   else: \n",
        "    print(\"Not German! There is less than 0.1% that this text is in German! The frequency of special German characters is {}%\".format(round_percentage_of_german_char))\n",
        "\n",
        "prob=probability_german_text()\n",
        "print(prob)"
      ],
      "execution_count": null,
      "outputs": []
    }
  ]
}