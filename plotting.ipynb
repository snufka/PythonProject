{
  "nbformat": 4,
  "nbformat_minor": 0,
  "metadata": {
    "colab": {
      "name": "plotting.ipynb",
      "provenance": [],
      "authorship_tag": "ABX9TyNwHUooxC7Vny/JBq1skeBr",
      "include_colab_link": true
    },
    "kernelspec": {
      "name": "python3",
      "display_name": "Python 3"
    },
    "language_info": {
      "name": "python"
    }
  },
  "cells": [
    {
      "cell_type": "markdown",
      "metadata": {
        "id": "view-in-github",
        "colab_type": "text"
      },
      "source": [
        "<a href=\"https://colab.research.google.com/github/snufka/PythonProject/blob/main/plotting.ipynb\" target=\"_parent\"><img src=\"https://colab.research.google.com/assets/colab-badge.svg\" alt=\"Open In Colab\"/></a>"
      ]
    },
    {
      "cell_type": "code",
      "metadata": {
        "colab": {
          "base_uri": "https://localhost:8080/"
        },
        "id": "jos70I_TiIIB",
        "outputId": "2064f969-5ff1-42ab-d69b-4d0681c3e397"
      },
      "source": [
        "import pandas as pd\n",
        "import requests\n",
        "from bs4 import BeautifulSoup\n",
        "import re\n",
        "import matplotlib.pyplot as plt\n",
        "%matplotlib inline\n",
        "\n",
        "#Task 1-------------------------------------------------------------------------\n",
        "#url= input (\"Enter wiki url :\")\n",
        "#for easy testing\n",
        "\n",
        "\n",
        "#url_2= input(\"second link: \")\n",
        "url_2='https://de.wikipedia.org/wiki/Angela_Merkel'\n",
        "page_2=requests.get(url_2)\n",
        "\n",
        "#getting the text and parsing it\n",
        "soup_2= BeautifulSoup(page_2.text, 'html.parser')\n",
        "\n",
        "#The text\n",
        "review_text_2=[]\n",
        "text_body_2 = soup_2.find_all(class_='mw-body')\n",
        "\n",
        "for item in text_body_2:\n",
        "    review_text_2.append(item.text)\n",
        "\n",
        "\n",
        "#pretty string of thr text\n",
        "string_2 =' '.join([str(item) for item in review_text_2]) \n",
        "\n",
        "\n",
        "#list of only the letters including german letters\n",
        "x_2 = re.findall(\"[A-Za-zÀ-ȕ]\", string_2)\n",
        "\n",
        "#turn it back to str to count frequency\n",
        "clean_str_2= ''.join([str(elem) for elem in x_2])\n",
        "#TASK 3\n",
        "#frequency count\n",
        "freq_2 = {} \n",
        "for item in clean_str_2.lower(): \n",
        "    if (item in freq_2): \n",
        "        freq_2[item] += 1\n",
        "    else: \n",
        "        freq_2[item] = 1\n",
        "#print(\"This is the letters fequency\")\n",
        "\n",
        "#sorting dictinory alphabetically\n",
        "sortedDict_2 = dict( sorted(freq_2.items(), key=lambda x_2: x_2[0].lower()) )\n",
        "\n",
        "#count of letters sum\n",
        "values_char_2 = sortedDict_2.values()\n",
        "\n",
        "total_char_2 = sum(values_char_2)\n",
        "\n",
        "#print(\"Total number of letter in 2nd text: {}\".format(total_char_2))\n",
        "\n",
        "\n",
        "#making a ferquency table\n",
        "df2=pd.DataFrame(sortedDict_2.items(),columns=['Letter', 'Frequency 2'])\n",
        "print(df2)\n",
        "\n",
        "#Merging the table \n",
        "#merged_table=pd.merge(df1, df2, on='Letter', how='outer')\n",
        "#print(merged_table)\n",
        "#changing the index to letters\n",
        "#df_reset=merged_table.set_index('Letter')\n",
        "#df_reset.plot.bar(figsize=(20,10), title='Frequency Comperebale Plot')\n",
        "\n"
      ],
      "execution_count": 24,
      "outputs": [
        {
          "output_type": "stream",
          "name": "stdout",
          "text": [
            "   Letter  Frequency 2\n",
            "0       a         8124\n",
            "1       b         2868\n",
            "2       c         3196\n",
            "3       d         5910\n",
            "4       e        19837\n",
            "5       f         2207\n",
            "6       g         3843\n",
            "7       h         4518\n",
            "8       i         9702\n",
            "9       j          440\n",
            "10      k         2644\n",
            "11      l         5317\n",
            "12      m         4215\n",
            "13      n        11345\n",
            "14      o         3938\n",
            "15      p         1693\n",
            "16      q           20\n",
            "17      r        10475\n",
            "18      s         7534\n",
            "19      t         7464\n",
            "20      u         5306\n",
            "21      v         1280\n",
            "22      w         1441\n",
            "23      x           60\n",
            "24      y          234\n",
            "25      z         1515\n",
            "26      ß          148\n",
            "27      à            1\n",
            "28      á            7\n",
            "29      ã            2\n",
            "30      ä          741\n",
            "31      ç            4\n",
            "32      è           14\n",
            "33      é            7\n",
            "34      í            5\n",
            "35      î            1\n",
            "36      ó            2\n",
            "37      ö          252\n",
            "38      ú            5\n",
            "39      ü          752\n",
            "40      ā            1\n",
            "41      ć            1\n",
            "42      ė            3\n",
            "43      ğ            2\n",
            "44      ł            1\n",
            "45      ņ            1\n",
            "46      š            5\n"
          ]
        }
      ]
    }
  ]
}