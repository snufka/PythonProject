{
  "nbformat": 4,
  "nbformat_minor": 0,
  "metadata": {
    "colab": {
      "name": "Welcome To Colaboratory",
      "provenance": [],
      "collapsed_sections": [],
      "toc_visible": true,
      "include_colab_link": true
    },
    "kernelspec": {
      "display_name": "Python 3",
      "name": "python3"
    }
  },
  "cells": [
    {
      "cell_type": "markdown",
      "metadata": {
        "id": "view-in-github",
        "colab_type": "text"
      },
      "source": [
        "<a href=\"https://colab.research.google.com/github/snufka/PythonProject/blob/main/updated%20_probability.ipynb\" target=\"_parent\"><img src=\"https://colab.research.google.com/assets/colab-badge.svg\" alt=\"Open In Colab\"/></a>"
      ]
    },
    {
      "cell_type": "code",
      "metadata": {
        "colab": {
          "base_uri": "https://localhost:8080/"
        },
        "id": "XBYDrKhs2j5P",
        "outputId": "f527136d-fc35-4981-c0be-b7878b625ac7"
      },
      "source": [
        "import pandas as pd\n",
        "import requests\n",
        "from bs4 import BeautifulSoup\n",
        "import re\n",
        "import matplotlib.pyplot as plt\n",
        "%matplotlib inline\n",
        "\n",
        "#Task 1-------------------------------------------------------------------------\n",
        "#url= input (\"Enter wiki url :\")\n",
        "#for easy testing\n",
        "url= 'https://de.wikipedia.org/wiki/Pietro_Antonio_Lorenzoni'\n",
        "\n",
        "def scraping_webpage(url): #web scraping function\n",
        "\n",
        "    page=requests.get(url)\n",
        "\n",
        "#getting the text and parsing it\n",
        "    soup = BeautifulSoup(page.text, 'html.parser')\n",
        "\n",
        "#The Wiki page Text\n",
        "    text=[]\n",
        "    text_body = soup.find_all(class_='mw-body')\n",
        "\n",
        "    for item in text_body:\n",
        "         text.append(item.text)\n",
        "         \n",
        "#Clean version of the text\n",
        "    string =' '.join([str(item) for item in text]) \n",
        "    return string\n",
        "\n",
        "my_fun = scraping_webpage(url)\n",
        "print(my_fun)\n"
      ],
      "execution_count": 42,
      "outputs": [
        {
          "output_type": "stream",
          "name": "stdout",
          "text": [
            "\n",
            "\n",
            "\n",
            "\n",
            "\n",
            "Pietro Antonio Lorenzoni\n",
            "\n",
            "aus Wikipedia, der freien Enzyklopädie\n",
            "\n",
            "\n",
            "\n",
            "Zur Navigation springen\n",
            "Zur Suche springen\n",
            "Pietro Antonio Lorenzoni, auch Peter Anton Lorenzoni (* 25. August 1721 in Cles; † 16. August 1782 in Salzburg) war ein italienischer Maler, der in Salzburg tätig war.\n",
            "\n",
            "Inhaltsverzeichnis\n",
            "\n",
            "1 Leben\n",
            "2 Werke\n",
            "3 Literatur\n",
            "4 Weblinks\n",
            "\n",
            "\n",
            "Leben[Bearbeiten | Quelltext bearbeiten]\n",
            "Lorenzoni wurde im Trientiner Nonstal als Sohn eins Schmiedes geboren. Er verbrachte einige Zeit in Rom und war später Schüler von Paul Troger. Durch den kunstfördernden Grafen Franz Laktanz von Firmian kam er nach Salzburg, wo er unter Erzbischof Sigismundus Christoph von Schrattenbach Hofmaler wurde. Er bildete den Maler Johann Nepomuk della Croce aus und starb sehr vermögend im 2. Stock des Schlossermeister-Hauses am Mönchsberg. Zu seinen Schülern zählte sein Neffe Johann Baptist Lampi der Ältere.\n",
            "Lorenzoni war im Erzbistum Salzburg sehr aktiv und fertigte eine Vielzahl von Altarblättern an, viele seiner Werke sind auf Salzburger Friedhöfen. Bekannt sind auch seine Bildnisse der Familie Mozart.\n",
            "\n",
            "Werke[Bearbeiten | Quelltext bearbeiten]\n",
            " rechtes Seitenaltarbild Hl. Franz von Sales in seiner Studierstube, Pfarrkirche Strobl (1760)\n",
            "Altarbilder\n",
            "\n",
            "Annaberg\n",
            "Buchbach bei Mühldorf\n",
            "Itter\n",
            "Kloster Nonnberg\n",
            "Köstendorf\n",
            "Marienberg bei Burghausen\n",
            "Salzburg – Mülln\n",
            "St. Georgen bei Salzburg\n",
            "St. Gilgen\n",
            "St. Peter in Salzburg\n",
            "Strobl\n",
            "Zell am See\n",
            "Porträts\n",
            "\n",
            " Porträt der Maria Anna Mozart (um 1760)\n",
            "Selbstporträt\n",
            "Dominicus Beck\n",
            "Mozart-Familie\n",
            "Siegmund Graf von Schrattenbach\n",
            "Literatur[Bearbeiten | Quelltext bearbeiten]\n",
            "Constantin von Wurzbach: Lorenzoni, Peter Anton. In: Biographisches Lexikon des Kaiserthums Oesterreich. 16. Theil. Kaiserlich-königliche Hof- und Staatsdruckerei, Wien 1867, S. 46 f. (Digitalisat).\n",
            "Hans Tietze, Franz Martin: Die kirchlichen Denkmale der Stadt Salzburg (= Österreichische Kunsttopographie. Band 9). Wien 1912.\n",
            "Franz Martin: Lorenzoni, Peter Anton (Pietro Antonio). In: Hans Vollmer (Hrsg.): Allgemeines Lexikon der Bildenden Künstler von der Antike bis zur Gegenwart. Begründet von Ulrich Thieme und Felix Becker. Band 23: Leitenstorfer–Mander. E. A. Seemann, Leipzig 1929, S. 394. \n",
            "Dieter Goerge: Lorenzoni, Peter Anton. In: Allgemeines Künstlerlexikon. Die Bildenden Künstler aller Zeiten und Völker (AKL). Band 85, de Gruyter, Berlin 2014, ISBN 978-3-11-023190-8, S. 324.\n",
            "Weblinks[Bearbeiten | Quelltext bearbeiten]\n",
            "Eintrag über Lorenzi, Peter Anton auf Artisti Italiani in Austria, einem Projekt der Universität Innsbruck\n",
            "Normdaten (Person): GND: 137872380 (OGND, AKS)    | VIAF: 86044235   | Wikipedia-Personensuche\n",
            "\n",
            "\n",
            "Personendaten\n",
            "\n",
            "\n",
            "NAME\n",
            "\n",
            "Lorenzoni, Pietro Antoni\n",
            "\n",
            "\n",
            "ALTERNATIVNAMEN\n",
            "\n",
            "Lorenzoni, Peter Anton\n",
            "\n",
            "\n",
            "KURZBESCHREIBUNG\n",
            "\n",
            "italienischer Maler\n",
            "\n",
            "\n",
            "GEBURTSDATUM\n",
            "\n",
            "25. August 1721\n",
            "\n",
            "\n",
            "GEBURTSORT\n",
            "\n",
            "Cles\n",
            "\n",
            "\n",
            "STERBEDATUM\n",
            "\n",
            "16. August 1782\n",
            "\n",
            "\n",
            "STERBEORT\n",
            "\n",
            "Salzburg\n",
            "\n",
            "\n",
            "\n",
            "\n",
            "\n",
            "Abgerufen von „https://de.wikipedia.org/w/index.php?title=Pietro_Antonio_Lorenzoni&oldid=206223805“\n",
            "Kategorien: Maler des RokokoMaler (Salzburg)HofmalerHistorische Person (Italien)Geboren 1721Gestorben 1782Mann\n",
            "\n",
            "\n"
          ]
        }
      ]
    },
    {
      "cell_type": "code",
      "metadata": {
        "colab": {
          "base_uri": "https://localhost:8080/"
        },
        "id": "K7O3Uqy3FB5w",
        "outputId": "21874e7f-4e8e-43c8-b4f9-92442efe7f89"
      },
      "source": [
        "#Task 2-------------------------------------------------------------------------\n",
        "def lang_in_url():\n",
        "    split = url.split(\".\")\n",
        "\n",
        "#Checking Language by subDomain;\n",
        "    if split[0].find(\"en\") == -1:\n",
        "        print(\"*********Based on the URL, this page is in German**************\")\n",
        "  # elif (split[0].includes(\"en\"))\n",
        "   #     print(\"it's not english nor German, to find out more please visit https://en.wikipedia.org/wiki/List_of_Wikipedias#List\")\n",
        "    else: \n",
        "        print(\"*********Based on the URL, this page is in English*****************\")\n",
        "  \n",
        "url_lang=lang_in_url()"
      ],
      "execution_count": 53,
      "outputs": [
        {
          "output_type": "stream",
          "name": "stdout",
          "text": [
            "*********Based on the URL, this page is in German**************\n"
          ]
        }
      ]
    },
    {
      "cell_type": "code",
      "metadata": {
        "colab": {
          "base_uri": "https://localhost:8080/",
          "height": 1000
        },
        "id": "gAkGyBgZFIJe",
        "outputId": "11a12704-4f5a-4a56-fd17-eb8e3e000331"
      },
      "source": [
        "#TASK 3-------------------------------------------------------------------------\n",
        "#list of only the letters, including german letters\n",
        "def letters_frequency(my_fun):\n",
        "     x = re.findall(\"[A-Za-zÀ-ȕ]\", my_fun)\n",
        "\n",
        "#turn it back to str to count frequency\n",
        "     clean_str= ''.join([str(elem) for elem in x])\n",
        "\n",
        "#frequency count\n",
        "     freq = {} \n",
        "     for item in clean_str.lower(): \n",
        "        if (item in freq): \n",
        "            freq[item] += 1\n",
        "        else: \n",
        "            freq[item] = 1\n",
        "\n",
        "#sorting dictinory alphabetically\n",
        "     sortedDict = dict( sorted(freq.items(), key=lambda x: x[0].lower()) )\n",
        "     return sortedDict\n",
        "\n",
        "lff=letters_frequency(my_fun)\n",
        "\n",
        "#the frequency table\n",
        "df1=pd.DataFrame(lff.items(),columns=['Letter', 'Frequency Input 1'])\n",
        "print(df1)\n",
        "\n",
        "#The chart\n",
        "df_reset=df1.set_index('Letter')\n",
        "df_reset.plot.bar(figsize=(20,10),title='Letters Frequency Distribution')"
      ],
      "execution_count": 43,
      "outputs": [
        {
          "output_type": "stream",
          "name": "stdout",
          "text": [
            "   Letter  Frequency Input 1\n",
            "0       a                163\n",
            "1       b                 83\n",
            "2       c                 48\n",
            "3       d                 72\n",
            "4       e                327\n",
            "5       f                 30\n",
            "6       g                 62\n",
            "7       h                 65\n",
            "8       i                192\n",
            "9       j                  3\n",
            "10      k                 44\n",
            "11      l                121\n",
            "12      m                 52\n",
            "13      n                229\n",
            "14      o                115\n",
            "15      p                 40\n",
            "16      q                  4\n",
            "17      r                219\n",
            "18      s                138\n",
            "19      t                167\n",
            "20      u                 78\n",
            "21      v                 22\n",
            "22      w                 20\n",
            "23      x                  9\n",
            "24      y                  2\n",
            "25      z                 48\n",
            "26      ä                 10\n",
            "27      ö                  8\n",
            "28      ü                  9\n"
          ]
        },
        {
          "output_type": "execute_result",
          "data": {
            "text/plain": [
              "<matplotlib.axes._subplots.AxesSubplot at 0x7f0d6ece1490>"
            ]
          },
          "metadata": {},
          "execution_count": 43
        },
        {
          "output_type": "display_data",
          "data": {
            "image/png": "[encoded data removed]",
            "text/plain": [
              "<Figure size 1440x720 with 1 Axes>"
            ]
          },
          "metadata": {
            "needs_background": "light"
          }
        }
      ]
    },
    {
      "cell_type": "code",
      "metadata": {
        "colab": {
          "base_uri": "https://localhost:8080/",
          "height": 1000
        },
        "id": "XWbJ_kXzHQAB",
        "outputId": "f56e2d4e-28b3-4d3a-c45b-eab587846213"
      },
      "source": [
        "#Task 4 Plooting----------------------------------------------------------\n",
        "\n",
        "#url_2= input(\"second link: \")\n",
        "url_2='https://de.wikipedia.org/wiki/Angela_Merkel'\n",
        "\n",
        "page_2=requests.get(url_2)\n",
        "secondtext=scraping_webpage(url_2)\n",
        "#print(secondtext)\n",
        "\n",
        "lff_2=letters_frequency(secondtext)\n",
        "#print(lff_2)\n",
        "\n",
        "df2=pd.DataFrame(lff_2.items(),columns=['Letter', 'Frequency Input 2'])\n",
        "#print(df2)\n",
        "\n",
        "def data_merging_chart():\n",
        "    merged_table=pd.merge(df1, df2, on='Letter', how='outer')\n",
        "    print(merged_table)\n",
        "    df_reset=merged_table.set_index('Letter')\n",
        "    df_reset.plot.bar(figsize=(20,10), title='Frequency Comperebale Plot')\n",
        "\n",
        "merged_chart=data_merging_chart()\n",
        "print(merged_chart)\n"
      ],
      "execution_count": 56,
      "outputs": [
        {
          "output_type": "stream",
          "name": "stdout",
          "text": [
            "   Letter  Frequency Input 1  Frequency Input 2\n",
            "0       a             4164.0             8124.0\n",
            "1       b              737.0             2868.0\n",
            "2       c             1738.0             3196.0\n",
            "3       d             1673.0             5910.0\n",
            "4       e             5249.0            19837.0\n",
            "5       f             1058.0             2207.0\n",
            "6       g              941.0             3843.0\n",
            "7       h             1915.0             4518.0\n",
            "8       i             3671.0             9702.0\n",
            "9       j              119.0              440.0\n",
            "10      k              350.0             2644.0\n",
            "11      l             2063.0             5317.0\n",
            "12      m             1826.0             4215.0\n",
            "13      n             3354.0            11345.0\n",
            "14      o             3774.0             3938.0\n",
            "15      p             1292.0             1693.0\n",
            "16      q               60.0               20.0\n",
            "17      r             3580.0            10475.0\n",
            "18      s             3243.0             7534.0\n",
            "19      t             3804.0             7464.0\n",
            "20      u             1344.0             5306.0\n",
            "21      v              463.0             1280.0\n",
            "22      w              816.0             1441.0\n",
            "23      x               90.0               60.0\n",
            "24      y              688.0              234.0\n",
            "25      z              417.0             1515.0\n",
            "26      à                1.0                1.0\n",
            "27      ä                6.0              741.0\n",
            "28      æ                2.0                NaN\n",
            "29      è                1.0               14.0\n",
            "30      é                5.0                7.0\n",
            "31      ì                3.0                NaN\n",
            "32      í                1.0                5.0\n",
            "33      ö                9.0              252.0\n",
            "34      ü                9.0              752.0\n",
            "35      č                2.0                NaN\n",
            "36      ł                1.0                1.0\n",
            "37      ŋ                2.0                NaN\n",
            "38      ō                1.0                NaN\n",
            "39      ž                1.0                NaN\n",
            "40      ß                NaN              148.0\n",
            "41      á                NaN                7.0\n",
            "42      ã                NaN                2.0\n",
            "43      ç                NaN                4.0\n",
            "44      î                NaN                1.0\n",
            "45      ó                NaN                2.0\n",
            "46      ú                NaN                5.0\n",
            "47      ā                NaN                1.0\n",
            "48      ć                NaN                1.0\n",
            "49      ė                NaN                3.0\n",
            "50      ğ                NaN                2.0\n",
            "51      ņ                NaN                1.0\n",
            "52      š                NaN                5.0\n",
            "None\n"
          ]
        },
        {
          "output_type": "display_data",
          "data": {
            "image/png": "[encoded data removed]",
            "text/plain": [
              "<Figure size 1440x720 with 1 Axes>"
            ]
          },
          "metadata": {
            "needs_background": "light"
          }
        }
      ]
    },
    {
      "cell_type": "code",
      "metadata": {
        "colab": {
          "base_uri": "https://localhost:8080/"
        },
        "id": "VVhqFyo7FQhW",
        "outputId": "f0a87ba6-82d6-4884-e243-0ff6e86356ce"
      },
      "source": [
        "# Task 5 & 6--------------------------------------------------------------------\n",
        "\n",
        "def probability_german_text():\n",
        "#count of letters sum\n",
        "   values_char = lff.values()\n",
        "   total_char= sum(values_char)\n",
        "#print(\"Total number of letters in the text: {}\".format(total_char))\n",
        "\n",
        "#Counting German Letters and counting the percentage of the letter in the text\n",
        "   germna_letters= ['ä', 'ö', 'ü', 'ß']\n",
        "   german_char_dict = {k:lff[k] for k in germna_letters if k in lff}\n",
        "\n",
        "   values_german_char = german_char_dict.values()\n",
        "   total_german_char= sum(values_german_char)\n",
        "   print(total_char) \n",
        "   print(\"Total number of German letter in the text: {}\".format(total_german_char))\n",
        "\n",
        "# Calculation of the % of the German latters of the text\n",
        "   percentage_of_german_char= (total_german_char*100)/total_char\n",
        "   round_percentage_of_german_char=round(percentage_of_german_char, 2)\n",
        "\n",
        "   print(\"percentage of greman letter in the text: {}\".format(round_percentage_of_german_char))\n",
        "   \n",
        "   \n",
        "   #mean = (0.456/100)*total_char\n",
        "   #sd= (0.114/100)*total_char\n",
        "   #z= (total_german_char - mean)/sd\n",
        "   #probability= 1-z\n",
        "   #print('z', z, 'mean',mean,'sd',sd ,'prob',probability)\n",
        "\n",
        "#Probablity that the text is in German----------\n",
        "   if percentage_of_german_char >= 0.91:\n",
        "      print(\"We are 100% sure that this text is in German! The frequency of special German characters is {}%!\".format(round_percentage_of_german_char))\n",
        "  \n",
        "   elif percentage_of_german_char > 0.79 and percentage_of_german_char < 0.91:\n",
        "        print(\"The probability that this text is in German is 99.9%! The frequency of special German characters is {}%\".format(round_percentage_of_german_char))\n",
        "  \n",
        "   elif percentage_of_german_char > 0.68 and percentage_of_german_char <= 0.79:\n",
        "        print(\"The probability that this text is in German is 97.7%- 99.8%! The frequency of special German characters is {}%\".format(round_percentage_of_german_char))\n",
        "\n",
        "   elif percentage_of_german_char > 0.58 and percentage_of_german_char <= 0.68:\n",
        "        print(\"The probability that this text is in German is 84.1% - 97.7%! The frequency of special German characters is {}%\".format(round_percentage_of_german_char))\n",
        "\n",
        "   elif percentage_of_german_char >= 0.46 and percentage_of_german_char <= 0.57:\n",
        "        print(\"The probability that this text is in German is 84.1% - 50.1%! The frequency of special German characters is {}%\".format(round_percentage_of_german_char))\n",
        "\n",
        "   elif percentage_of_german_char < 0.46 and percentage_of_german_char >= 0.34:\n",
        "    print(\"The probability that this text is in German is 15.8% - 50%! The frequency of special German characters is {}%\".format(round_percentage_of_german_char))\n",
        "\n",
        "   elif percentage_of_german_char < 0.34 and percentage_of_german_char >= 0.23:\n",
        "    print(\"We are 97.7% - 84.2% sure that this text is not German! The frequency of special German characters is {}%\".format(round_percentage_of_german_char))\n",
        "\n",
        "   elif percentage_of_german_char < 0.23 and percentage_of_german_char >= 0.11:\n",
        "    print(\"We are 99.8% - 97.8% sure that this text is not German! The frequency of special German characters is {}%\".format(round_percentage_of_german_char))\n",
        "\n",
        "   else: \n",
        "    print(\"Not German! There is less than 0.1% that this text is in German! The frequency of special German characters is {}%\".format(round_percentage_of_german_char))\n",
        "\n",
        "probability_german_text()"
      ],
      "execution_count": 45,
      "outputs": [
        {
          "output_type": "stream",
          "name": "stdout",
          "text": [
            "2380\n",
            "Total number of German letter in the text: 27\n",
            "percentage of greman letter in the text: 1.13\n",
            "z 5.951348960636886 mean 10.8528 sd 2.7132 prob -4.951348960636886\n",
            "We are 100% sure that this text is in German! The frequency of special German characters is 1.13%!\n"
          ]
        }
      ]
    }
  ]
}